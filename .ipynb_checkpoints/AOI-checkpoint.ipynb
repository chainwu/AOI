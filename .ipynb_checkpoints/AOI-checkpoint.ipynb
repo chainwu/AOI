{
 "cells": [
  {
   "cell_type": "code",
   "execution_count": 54,
   "metadata": {},
   "outputs": [],
   "source": [
    "import pandas as pd\n",
    "\n",
    "df=pd.read_csv('train.csv')\n",
    "\n",
    "#df.plot.hist()\n",
    "labels= df.Label\n",
    "#print(labels)"
   ]
  },
  {
   "cell_type": "code",
   "execution_count": 52,
   "metadata": {},
   "outputs": [],
   "source": [
    "import keras\n",
    "from keras.models import Sequential\n",
    "from keras.layers import Dense, Dropout, Flatten, Activation\n",
    "from keras.layers.convolutional import Conv2D, MaxPooling2D\n",
    "from keras.optimizers import SGD\n",
    "from keras.utils import plot_model, to_categorical\n",
    "from keras.callbacks import EarlyStopping, TensorBoard\n",
    "from sklearn.metrics import accuracy_score, f1_score\n",
    "\n",
    "import glob\n",
    "import imageio\n",
    "import numpy as np\n",
    "import os.path as path\n",
    "from datetime import datetime\n",
    "\n",
    "# Image processing\n",
    "IMAGE_PATH='train_images'\n",
    "\n",
    "image_input_files = sorted(glob.glob(path.join(IMAGE_PATH, '*.png')))\n",
    "images = [imageio.imread(im) for im in image_input_files]"
   ]
  },
  {
   "cell_type": "code",
   "execution_count": 53,
   "metadata": {},
   "outputs": [
    {
     "name": "stdout",
     "output_type": "stream",
     "text": [
      "(2528, 128, 128)\n",
      "2528\n",
      "[2528  128  128]\n"
     ]
    }
   ],
   "source": [
    "m = np.array(images)\n",
    "print(m.shape)\n",
    "\n",
    "images = np.asarray(images)\n",
    "#images = images[..., None]\n",
    "n_images = len(image_input_files)\n",
    "\n",
    "print(n_images)\n",
    "labels = np.zeros(n_images)\n",
    "#images = images.reshape(,180,1500,3)\n",
    "image_size = np.asarray([images.shape[0], images.shape[1], images.shape[2]])\n",
    "print(image_size)\n",
    "#images = np.expand_dims(images,axis=0)\n",
    "#print(image_size)\n",
    "images = images/256"
   ]
  },
  {
   "cell_type": "code",
   "execution_count": 63,
   "metadata": {},
   "outputs": [
    {
     "name": "stdout",
     "output_type": "stream",
     "text": [
      "[[0. 1. 0. 0. 0. 0.]\n",
      " [0. 1. 0. 0. 0. 0.]\n",
      " [0. 1. 0. 0. 0. 0.]\n",
      " ...\n",
      " [0. 1. 0. 0. 0. 0.]\n",
      " [0. 1. 0. 0. 0. 0.]\n",
      " [0. 1. 0. 0. 0. 0.]]\n",
      "_________________________________________________________________\n",
      "Layer (type)                 Output Shape              Param #   \n",
      "=================================================================\n",
      "conv2d_38 (Conv2D)           (None, 128, 128, 64)      1664      \n",
      "_________________________________________________________________\n",
      "max_pooling2d_37 (MaxPooling (None, 42, 42, 64)        0         \n",
      "_________________________________________________________________\n",
      "dropout_35 (Dropout)         (None, 42, 42, 64)        0         \n",
      "_________________________________________________________________\n",
      "conv2d_39 (Conv2D)           (None, 42, 42, 128)       73856     \n",
      "_________________________________________________________________\n",
      "max_pooling2d_38 (MaxPooling (None, 14, 14, 128)       0         \n",
      "_________________________________________________________________\n",
      "dropout_36 (Dropout)         (None, 14, 14, 128)       0         \n",
      "_________________________________________________________________\n",
      "conv2d_40 (Conv2D)           (None, 14, 14, 256)       295168    \n",
      "_________________________________________________________________\n",
      "max_pooling2d_39 (MaxPooling (None, 4, 4, 256)         0         \n",
      "_________________________________________________________________\n",
      "dropout_37 (Dropout)         (None, 4, 4, 256)         0         \n",
      "_________________________________________________________________\n",
      "flatten_11 (Flatten)         (None, 4096)              0         \n",
      "_________________________________________________________________\n",
      "dense_39 (Dense)             (None, 128)               524416    \n",
      "_________________________________________________________________\n",
      "dense_40 (Dense)             (None, 64)                8256      \n",
      "_________________________________________________________________\n",
      "dense_41 (Dense)             (None, 32)                2080      \n",
      "_________________________________________________________________\n",
      "dense_42 (Dense)             (None, 6)                 198       \n",
      "=================================================================\n",
      "Total params: 905,638\n",
      "Trainable params: 905,638\n",
      "Non-trainable params: 0\n",
      "_________________________________________________________________\n",
      "Epoch 1/10\n",
      "1769/1769 [==============================] - 94s 53ms/step - loss: 0.1736 - acc: 0.9514\n",
      "Epoch 2/10\n",
      "1769/1769 [==============================] - 89s 50ms/step - loss: 1.1921e-07 - acc: 1.0000\n",
      "Epoch 3/10\n",
      "1769/1769 [==============================] - 80s 45ms/step - loss: 1.1921e-07 - acc: 1.0000\n",
      "Epoch 4/10\n",
      "1769/1769 [==============================] - 84s 48ms/step - loss: 1.1921e-07 - acc: 1.0000\n",
      "Epoch 5/10\n",
      "1769/1769 [==============================] - 75s 42ms/step - loss: 1.1921e-07 - acc: 1.0000\n",
      "Epoch 6/10\n",
      "1769/1769 [==============================] - 81s 46ms/step - loss: 1.1921e-07 - acc: 1.0000\n",
      "Epoch 7/10\n",
      "1769/1769 [==============================] - 74s 42ms/step - loss: 1.1921e-07 - acc: 1.0000\n",
      "Epoch 8/10\n",
      "1769/1769 [==============================] - 73s 41ms/step - loss: 1.1921e-07 - acc: 1.0000\n",
      "Epoch 9/10\n",
      "1769/1769 [==============================] - 83s 47ms/step - loss: 1.1921e-07 - acc: 1.0000\n",
      "Epoch 10/10\n",
      "1769/1769 [==============================] - 76s 43ms/step - loss: 1.1921e-07 - acc: 1.0000\n"
     ]
    }
   ],
   "source": [
    "from sklearn.model_selection import train_test_split\n",
    "\n",
    "num_classes = 6\n",
    "img_rows = 128\n",
    "img_cols = 128\n",
    "\n",
    "# Training set processing\n",
    "# Split into test and training sets\n",
    "#TRAIN_TEST_SPLIT = 0.3\n",
    "\n",
    "# Split at the given index\n",
    "#split_index = int(TRAIN_TEST_SPLIT * n_images)\n",
    "#shuffled_indices = np.random.permutation(n_images)\n",
    "#train_indices = shuffled_indices[0:split_index]\n",
    "#test_indices = shuffled_indices[split_index:]\n",
    "\n",
    "#print(\"split_index=\", split_index)\n",
    "#print(\"shuffled_indices=\",shuffled_indices)\n",
    "#print(\"train_indices\", train_indices)\n",
    "#print(\"test_indices=\",test_indices)\n",
    "\n",
    "# Split the images and the labels\n",
    "#x_train = images[train_indices, :, :]\n",
    "#y_train = labels[train_indices]\n",
    "    \n",
    "#for i in range(1, n_images):\n",
    "#     labels[i] = int(i / 3)\n",
    "\n",
    "#labels=array(labels)\n",
    "\n",
    "#print(labels_encoded)\n",
    "\n",
    "#train_indices=n_images-1\n",
    "x_train, x_test, y_train, y_test = train_test_split(images, labels_encoded, test_size=0.30, random_state=42)\n",
    "\n",
    "x_train = x_train.reshape(x_train.shape[0], img_rows, img_cols, 1)\n",
    "x_test = x_test.reshape(x_test.shape[0], img_rows, img_cols, 1)\n",
    "input_shape = (img_rows, img_cols, 1)\n",
    "    \n",
    "y_train=to_categorical(y_train,num_classes)\n",
    "y_test=to_categorical(y_test,num_classes)\n",
    "\n",
    "print(y_train)\n",
    "#---------------------------------------\n",
    "# CNN network processing\n",
    "model = Sequential()\n",
    "\n",
    "# 1st layer\n",
    "model.add(Conv2D(filters = 64, kernel_size = (5,5), padding = 'same', input_shape = (128,128,1), activation = 'relu'))\n",
    "model.add(MaxPooling2D(pool_size=(3,3)))\n",
    "model.add(Dropout(0.2))\n",
    "\n",
    "#2nd layer\n",
    "model.add(Conv2D(128, kernel_size = (3,3), padding = 'same', activation = 'relu'))\n",
    "model.add(MaxPooling2D(pool_size=(3,3)))\n",
    "model.add(Dropout(0.2))\n",
    "\n",
    "#3rd layer\n",
    "model.add(Conv2D(256, kernel_size = (3,3), padding = 'same', activation = 'relu'))\n",
    "model.add(MaxPooling2D(pool_size=(3,3)))\n",
    "model.add(Dropout(0.2))\n",
    "\n",
    "model.add(Flatten())\n",
    "\n",
    "model.add(Dense(128, activation='relu'))\n",
    "model.add(Dense(64, activation='relu'))\n",
    "model.add(Dense(32, activation='relu'))\n",
    "model.add(Dense(6, activation='softmax'))\n",
    "\n",
    "model.summary()\n",
    "#plot_model(model, to_file='model.png', show_shapes=True)\n",
    "#optim = SGD(lr=10e-3,momentum=0.0, decay=0.0, nesterov=False)\n",
    "\n",
    "model.compile(loss='categorical_crossentropy', optimizer='adam', metrics=['accuracy'])\n",
    "\n",
    "BATCH_SIZE=100\n",
    "EPOCHS= 10\n",
    "\n",
    "# Train the model\n",
    "history=model.fit(x_train, y_train, epochs=EPOCHS, batch_size=BATCH_SIZE, verbose=1)\n"
   ]
  },
  {
   "cell_type": "code",
   "execution_count": 64,
   "metadata": {},
   "outputs": [
    {
     "name": "stdout",
     "output_type": "stream",
     "text": [
      "759/759 [==============================] - 11s 14ms/step\n",
      "Test loss: 1.1920928955078125e-07\n",
      "Test accuracy: 1.0\n"
     ]
    }
   ],
   "source": [
    "score = model.evaluate(x_test, y_test, verbose=1)\n",
    "print('Test loss:', score[0])\n",
    "print('Test accuracy:', score[1])\n"
   ]
  },
  {
   "cell_type": "code",
   "execution_count": 67,
   "metadata": {},
   "outputs": [
    {
     "name": "stdout",
     "output_type": "stream",
     "text": [
      "dict_keys(['loss', 'acc'])\n"
     ]
    },
    {
     "data": {
      "image/png": "[encoded data removed]",
      "text/plain": [
       "<Figure size 432x288 with 1 Axes>"
      ]
     },
     "metadata": {
      "needs_background": "light"
     },
     "output_type": "display_data"
    },
    {
     "data": {
      "image/png": "[encoded data removed]",
      "text/plain": [
       "<Figure size 432x288 with 1 Axes>"
      ]
     },
     "metadata": {
      "needs_background": "light"
     },
     "output_type": "display_data"
    }
   ],
   "source": [
    "print(history.history.keys())\n",
    "# summarize history for accuracy\n",
    "plt.plot(history.history['acc'])\n",
    "plt.title('model accuracy')\n",
    "plt.ylabel('accuracy')\n",
    "plt.xlabel('epoch')\n",
    "plt.legend(['train', 'test'], loc='upper left')\n",
    "plt.show()\n",
    "# summarize history for loss\n",
    "plt.plot(history.history['loss'])\n",
    "plt.title('model loss')\n",
    "plt.ylabel('loss')\n",
    "plt.xlabel('epoch')\n",
    "plt.legend(['train', 'test'], loc='upper left')\n",
    "plt.show()"
   ]
  },
  {
   "cell_type": "code",
   "execution_count": null,
   "metadata": {},
   "outputs": [],
   "source": []
  }
 ],
 "metadata": {
  "kernelspec": {
   "display_name": "Python (py367)",
   "language": "python",
   "name": "py367"
  },
  "language_info": {
   "codemirror_mode": {
    "name": "ipython",
    "version": 3
   },
   "file_extension": ".py",
   "mimetype": "text/x-python",
   "name": "python",
   "nbconvert_exporter": "python",
   "pygments_lexer": "ipython3",
   "version": "3.6.7"
  }
 },
 "nbformat": 4,
 "nbformat_minor": 2
}
